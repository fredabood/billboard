{
 "cells": [
  {
   "cell_type": "markdown",
   "metadata": {},
   "source": [
    "**Tutorials**\n",
    "\n",
    "https://dluo.me/s3databoto3"
   ]
  },
  {
   "cell_type": "code",
   "execution_count": 1,
   "metadata": {},
   "outputs": [],
   "source": [
    "from bs4 import BeautifulSoup\n",
    "import requests\n",
    "from datetime import datetime, timedelta\n",
    "import pandas as pd\n",
    "import numpy as np\n",
    "import os\n",
    "import boto3\n",
    "import json\n",
    "from pprint import pprint\n",
    "\n",
    "from funcs import find_next_date, save_html, parse_html"
   ]
  },
  {
   "cell_type": "code",
   "execution_count": null,
   "metadata": {},
   "outputs": [],
   "source": []
  },
  {
   "cell_type": "code",
   "execution_count": null,
   "metadata": {},
   "outputs": [],
   "source": []
  },
  {
   "cell_type": "code",
   "execution_count": null,
   "metadata": {},
   "outputs": [],
   "source": []
  },
  {
   "cell_type": "code",
   "execution_count": null,
   "metadata": {},
   "outputs": [],
   "source": []
  },
  {
   "cell_type": "code",
   "execution_count": null,
   "metadata": {},
   "outputs": [],
   "source": []
  },
  {
   "cell_type": "code",
   "execution_count": null,
   "metadata": {},
   "outputs": [],
   "source": [
    "if __name__ == \"__main__\":\n",
    "    \n",
    "    '''\n",
    "    Webpage > HTML\n",
    "    '''\n",
    "\n",
    "    s3 = boto3.resource('s3')\n",
    "    resource = boto3.resource('s3') # high-level object-oriented API\n",
    "    \n",
    "    bucket = 'billboard-charts-html'\n",
    "    bucket = resource.Bucket(bucket)\n",
    "    \n",
    "    with open('charts.json') as log:\n",
    "        charts = json.load(log)\n",
    "    \n",
    "    # Save webpages to HTML files on S3 bucket\n",
    "    for category in charts:\n",
    "        for chart in charts[category]:\n",
    "    \n",
    "            date = charts[category][chart]\n",
    "            \n",
    "            if date > 0:\n",
    "\n",
    "                date = find_next_date(date)\n",
    "\n",
    "                while date <= datetime.now():\n",
    "                    save_html(chart=chart, bucket=bucket, date=date)\n",
    "                    charts[category][chart] = int(date.strftime('%Y%m%d'))\n",
    "                    print(chart + ': ' + date.strftime('%Y-%m-%d') + '\\n')\n",
    "                    date += timedelta(1)\n",
    "                    \n",
    "                    with open('charts.json', 'w') as log:\n",
    "                        json.dump(charts, log)\n",
    "            else:\n",
    "\n",
    "                save_html(chart=chart, bucket=bucket)\n",
    "                    \n",
    "                with open('charts.json', 'w') as log:\n",
    "                    json.dump(charts, log)"
   ]
  },
  {
   "cell_type": "code",
   "execution_count": null,
   "metadata": {},
   "outputs": [],
   "source": []
  }
 ],
 "metadata": {
  "kernelspec": {
   "display_name": "Python 3",
   "language": "python",
   "name": "python3"
  },
  "language_info": {
   "codemirror_mode": {
    "name": "ipython",
    "version": 3
   },
   "file_extension": ".py",
   "mimetype": "text/x-python",
   "name": "python",
   "nbconvert_exporter": "python",
   "pygments_lexer": "ipython3",
   "version": "3.6.6"
  }
 },
 "nbformat": 4,
 "nbformat_minor": 2
}
