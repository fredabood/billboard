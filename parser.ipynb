{
 "cells": [
  {
   "cell_type": "code",
   "execution_count": 40,
   "metadata": {},
   "outputs": [],
   "source": [
    "from bs4 import BeautifulSoup\n",
    "import boto3\n",
    "client = boto3.client('s3') #low-level functional API\n",
    "resource = boto3.resource('s3') #high-level object-oriented API\n",
    "bucket = resource.Bucket('billboard-charts-html') #subsitute this for your s3 bucket name. \n",
    "files = list(bucket.objects.filter(Prefix='hot-100'))"
   ]
  },
  {
   "cell_type": "code",
   "execution_count": 60,
   "metadata": {},
   "outputs": [],
   "source": [
    "file = files[-1].get()['Body'].read().decode(\"utf-8\")"
   ]
  },
  {
   "cell_type": "code",
   "execution_count": 61,
   "metadata": {},
   "outputs": [],
   "source": [
    "soup = BeautifulSoup(file, \"html.parser\")"
   ]
  },
  {
   "cell_type": "markdown",
   "metadata": {},
   "source": [
    "# CHART META DATA"
   ]
  },
  {
   "cell_type": "code",
   "execution_count": 1,
   "metadata": {},
   "outputs": [],
   "source": [
    "def chart_meta_gen(soup):\n",
    "\n",
    "    chart_name = soup.find_all('span', {'class' : 'chart-detail-header--hidden'})[0].contents[0]\n",
    "\n",
    "    hiw_headline = soup.find_all('div', {'class' : 'how-it-works-modal__headline'})[0].contents[0]\n",
    "\n",
    "    hiw_description = soup.find_all('div', {'class' : 'how-it-works-modal__description'})[0].p.contents[0]\n",
    "\n",
    "    chart_week = soup.find_all('button', {'class' : 'chart-detail-header__date-selector-button'})[0].contents[0].replace('\\n','').strip()\n",
    "    chart_week = datetime.strptime(chart_week, '%B %d, %Y').strftime('%Y%m%d')\n",
    "    \n",
    "    return (chart_name, hiw_headline, hiw_description, chart_week)"
   ]
  },
  {
   "cell_type": "markdown",
   "metadata": {},
   "source": [
    "# Current Rank"
   ]
  },
  {
   "cell_type": "code",
   "execution_count": null,
   "metadata": {},
   "outputs": [],
   "source": [
    "def current_rank_gen(soup):\n",
    "\n",
    "    current_rank = [1]\n",
    "\n",
    "    for i in soup.find_all('div', {'class' : 'chart-list-item__rank '}):\n",
    "        current_rank.append(int(i.contents[0].replace('\\n','').strip()))\n",
    "        \n",
    "    return current_rank"
   ]
  },
  {
   "cell_type": "markdown",
   "metadata": {},
   "source": [
    "# Last Week Rank"
   ]
  },
  {
   "cell_type": "code",
   "execution_count": null,
   "metadata": {},
   "outputs": [],
   "source": [
    "def last_week_rank_gen(soup):\n",
    "\n",
    "    last_week_rank = [None]\n",
    "\n",
    "    for i in soup.find_all('div', {'class' : 'chart-list-item__last-week'}):\n",
    "        last_week_rank.append(int(i.contents[0]))\n",
    "        \n",
    "    return last_week_rank"
   ]
  },
  {
   "cell_type": "markdown",
   "metadata": {},
   "source": [
    "# Weeks @ One"
   ]
  },
  {
   "cell_type": "code",
   "execution_count": null,
   "metadata": {},
   "outputs": [],
   "source": [
    "def weeks_at_one_gen(soup):\n",
    "\n",
    "    weeks_at_one = []\n",
    "\n",
    "    weeks_at_one.append(int(soup.find_all('div', {'class' : 'chart-number-one__weeks-at-one'})[0].contents[0]))\n",
    "\n",
    "    for i in soup.find_all('div', {'class' : 'chart-list-item__weeks-at-one'}):\n",
    "        weeks_at_one.append(int(i.contents[0]))\n",
    "        \n",
    "    return weeks_at_one"
   ]
  },
  {
   "cell_type": "markdown",
   "metadata": {},
   "source": [
    "# Weeks on Chart"
   ]
  },
  {
   "cell_type": "code",
   "execution_count": null,
   "metadata": {},
   "outputs": [],
   "source": [
    "def weeks_on_chart_gen(soup):\n",
    "\n",
    "    weeks_on_chart = []\n",
    "\n",
    "    weeks_on_chart.append(int(soup.find_all('div', {'class' : 'chart-number-one__weeks-on-chart'})[0].contents[0]))\n",
    "\n",
    "    for i in soup.find_all('div', {'class' : 'chart-list-item__weeks-on-chart'}):\n",
    "        weeks_on_chart.append(int(i.contents[0]))\n",
    "        \n",
    "    return weeks_on_chart"
   ]
  },
  {
   "cell_type": "markdown",
   "metadata": {},
   "source": [
    "# Song Title"
   ]
  },
  {
   "cell_type": "code",
   "execution_count": null,
   "metadata": {},
   "outputs": [],
   "source": [
    "def song_title_gen(soup):\n",
    "\n",
    "    song_title = []\n",
    "\n",
    "    song_title.append(soup.find_all('div', {'class' : 'chart-number-one__title'})[0].contents[0])\n",
    "\n",
    "    for i in soup.find_all('span', {'class' : 'chart-list-item__title-text'}):\n",
    "        song_title.append(i.contents[0].replace('\\n','').strip())\n",
    "        \n",
    "    return song_title"
   ]
  },
  {
   "cell_type": "markdown",
   "metadata": {},
   "source": [
    "# Artist & Link to Artist"
   ]
  },
  {
   "cell_type": "code",
   "execution_count": null,
   "metadata": {},
   "outputs": [],
   "source": [
    "def artist_gen(soup)\n",
    "\n",
    "    link_to_artist = []\n",
    "    artist = []\n",
    "\n",
    "    artist.append(soup.find_all('div', {'class' : 'chart-number-one__artist'})[0].a.contents[0].replace('\\n','').strip())\n",
    "    try:\n",
    "        link_to_artist.append(\"https://billboard.com\" + soup.find_all('div', {'class' : 'chart-number-one__artist'})[0].a['href'])\n",
    "    except:\n",
    "        link_to_artist.append(None)\n",
    "\n",
    "    for i in soup.find_all('div', {'class' : 'chart-list-item__artist'}):\n",
    "        try:\n",
    "            artist.append(soup.find_all('div', {'class' : 'chart-list-item__artist'})[3].a.contents[0].replace('\\n','').strip())\n",
    "            link_to_artist.append(\"https://billboard.com\" + soup.find_all('div', {'class' : 'chart-list-item__artist'})[3].a['href'])\n",
    "        except:\n",
    "            artist.append(soup.find_all('div', {'class' : 'chart-list-item__artist'})[0].contents[0].replace('\\n','').strip())\n",
    "            link_to_artist.append(None)\n",
    "            \n",
    "    return (artist, link_to_artist)"
   ]
  },
  {
   "cell_type": "markdown",
   "metadata": {},
   "source": [
    "# Link to Lyrics"
   ]
  },
  {
   "cell_type": "code",
   "execution_count": null,
   "metadata": {},
   "outputs": [],
   "source": [
    "def lyric_link_gen(soup):\n",
    "\n",
    "    link_to_lyrics = []\n",
    "\n",
    "    try:\n",
    "        link_to_lyrics.append(soup.find_all('div', {'class' : 'chart-number-one__lyrics'})[0].a['href'])\n",
    "    except:\n",
    "        link_to_lyrics.append(None)\n",
    "\n",
    "    for i in soup.find_all('div', {'class' : 'chart-list-item__lyrics'}):\n",
    "        try:\n",
    "            link_to_lyrics.append(i.a['href'])\n",
    "        except:\n",
    "            link_to_lyrics.append(None)\n",
    "            \n",
    "    return link_to_lyrics"
   ]
  },
  {
   "cell_type": "markdown",
   "metadata": {},
   "source": [
    "# Awards"
   ]
  },
  {
   "cell_type": "code",
   "execution_count": null,
   "metadata": {},
   "outputs": [],
   "source": [
    "def award_list_gen(soup)\n",
    "\n",
    "    all_awards = []\n",
    "\n",
    "    artists_awards = []\n",
    "\n",
    "    if len(soup.find_all('div', {'class' : 'chart-number-one__awards'})) > 0:\n",
    "        for i in soup.find_all('div', {'class' : 'chart-number-one__awards'})[0].contents:\n",
    "\n",
    "            try:\n",
    "                artists_awards.append(i.contents[1].strip())\n",
    "            except:\n",
    "                pass\n",
    "\n",
    "    artists_awards = artists_awards[1:]\n",
    "    all_awards.append(artists_awards)\n",
    "\n",
    "    for x in soup.find_all('div', {'class' : 'chart-list-item__awards'}):\n",
    "\n",
    "        artists_awards = []\n",
    "\n",
    "        if len(x.contents) > 0:\n",
    "            for i in x.contents:\n",
    "\n",
    "                try:\n",
    "                    artists_awards.append(i.contents[1].strip())\n",
    "                except:\n",
    "                    pass\n",
    "\n",
    "            artists_awards = artists_awards[1:]\n",
    "        all_awards.append(artists_awards)\n",
    "    \n",
    "    return all_awards"
   ]
  },
  {
   "cell_type": "markdown",
   "metadata": {},
   "source": [
    "# Assembe the Chart"
   ]
  },
  {
   "cell_type": "code",
   "execution_count": null,
   "metadata": {},
   "outputs": [],
   "source": [
    "def chart_gen(soup):\n",
    "\n",
    "    chart_names, hiw_headlines, hiw_descriptions, chart_weeks = chart_meta_gen(soup)\n",
    "    artists, links_to_artist = artist_gen(soup)\n",
    "\n",
    "    weekly_chart = dict(\n",
    "        current_rank = current_rank_gen(soup),\n",
    "        last_week_rank = last_week_rank_gen(soup),\n",
    "        weeks_at_one = weeks_at_one_gen(soup),\n",
    "        weeks_on_chart = weeks_on_chart_gen(soup),\n",
    "        song_title = song_title_gen(soup),\n",
    "        link_to_artist = links_to_artist,\n",
    "        artist = artists,\n",
    "        link_to_lyrics = lyric_link_gen(soup),\n",
    "        all_awards = award_list_gen(soup)\n",
    "    )\n",
    "\n",
    "    chart = dict(\n",
    "        chart_name = chart_names,\n",
    "        hiw_headline = hiw_headlines,\n",
    "        hiw_description = hiw_descriptions,\n",
    "        chart_week = chart_weeks,\n",
    "        chart = weekly_chart\n",
    "    )\n",
    "\n",
    "    return chart"
   ]
  },
  {
   "cell_type": "code",
   "execution_count": null,
   "metadata": {},
   "outputs": [],
   "source": [
    "class Chart:\n",
    "    class WeeklyChart:\n",
    "        class ChartItem:"
   ]
  },
  {
   "cell_type": "code",
   "execution_count": null,
   "metadata": {},
   "outputs": [],
   "source": []
  },
  {
   "cell_type": "code",
   "execution_count": null,
   "metadata": {},
   "outputs": [],
   "source": []
  },
  {
   "cell_type": "code",
   "execution_count": null,
   "metadata": {},
   "outputs": [],
   "source": []
  },
  {
   "cell_type": "code",
   "execution_count": null,
   "metadata": {},
   "outputs": [],
   "source": []
  },
  {
   "cell_type": "code",
   "execution_count": null,
   "metadata": {},
   "outputs": [],
   "source": []
  },
  {
   "cell_type": "code",
   "execution_count": null,
   "metadata": {},
   "outputs": [],
   "source": []
  },
  {
   "cell_type": "code",
   "execution_count": null,
   "metadata": {},
   "outputs": [],
   "source": []
  },
  {
   "cell_type": "code",
   "execution_count": null,
   "metadata": {},
   "outputs": [],
   "source": []
  },
  {
   "cell_type": "code",
   "execution_count": null,
   "metadata": {},
   "outputs": [],
   "source": []
  },
  {
   "cell_type": "code",
   "execution_count": null,
   "metadata": {},
   "outputs": [],
   "source": []
  },
  {
   "cell_type": "code",
   "execution_count": null,
   "metadata": {},
   "outputs": [],
   "source": []
  },
  {
   "cell_type": "code",
   "execution_count": null,
   "metadata": {},
   "outputs": [],
   "source": []
  },
  {
   "cell_type": "code",
   "execution_count": null,
   "metadata": {},
   "outputs": [],
   "source": []
  },
  {
   "cell_type": "code",
   "execution_count": null,
   "metadata": {},
   "outputs": [],
   "source": []
  },
  {
   "cell_type": "code",
   "execution_count": null,
   "metadata": {},
   "outputs": [],
   "source": []
  },
  {
   "cell_type": "code",
   "execution_count": null,
   "metadata": {},
   "outputs": [],
   "source": []
  },
  {
   "cell_type": "code",
   "execution_count": null,
   "metadata": {},
   "outputs": [],
   "source": []
  },
  {
   "cell_type": "code",
   "execution_count": null,
   "metadata": {},
   "outputs": [],
   "source": []
  },
  {
   "cell_type": "code",
   "execution_count": null,
   "metadata": {},
   "outputs": [],
   "source": []
  },
  {
   "cell_type": "code",
   "execution_count": null,
   "metadata": {},
   "outputs": [],
   "source": []
  },
  {
   "cell_type": "code",
   "execution_count": null,
   "metadata": {},
   "outputs": [],
   "source": []
  },
  {
   "cell_type": "code",
   "execution_count": null,
   "metadata": {},
   "outputs": [],
   "source": []
  },
  {
   "cell_type": "code",
   "execution_count": null,
   "metadata": {},
   "outputs": [],
   "source": []
  },
  {
   "cell_type": "code",
   "execution_count": null,
   "metadata": {},
   "outputs": [],
   "source": []
  }
 ],
 "metadata": {
  "kernelspec": {
   "display_name": "Python 3",
   "language": "python",
   "name": "python3"
  },
  "language_info": {
   "codemirror_mode": {
    "name": "ipython",
    "version": 3
   },
   "file_extension": ".py",
   "mimetype": "text/x-python",
   "name": "python",
   "nbconvert_exporter": "python",
   "pygments_lexer": "ipython3",
   "version": "3.6.6"
  }
 },
 "nbformat": 4,
 "nbformat_minor": 2
}
